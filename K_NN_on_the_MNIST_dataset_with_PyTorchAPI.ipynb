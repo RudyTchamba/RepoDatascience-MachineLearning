{
  "nbformat": 4,
  "nbformat_minor": 0,
  "metadata": {
    "colab": {
      "provenance": []
    },
    "kernelspec": {
      "name": "python3",
      "display_name": "Python 3"
    },
    "language_info": {
      "name": "python"
    }
  },
  "cells": [
    {
      "cell_type": "markdown",
      "source": [
        "# TP2 INF372 : APPRENTISSAGE SUPERVISE ET NON SUPERVISE"
      ],
      "metadata": {
        "id": "Q5HZQXN8owLI"
      }
    },
    {
      "cell_type": "markdown",
      "source": [
        "This involves implementing an K-NN(K Nearest Neighbour) for the classification of data from the MNIST dataset which is a set of images of handwritten digits.\n",
        "For this exercise, we will use the pytorch package."
      ],
      "metadata": {
        "id": "HE6epAzyo9l-"
      }
    },
    {
      "cell_type": "code",
      "source": [
        "pip install pykeops"
      ],
      "metadata": {
        "colab": {
          "base_uri": "https://localhost:8080/"
        },
        "id": "5MWorjQrrd0N",
        "outputId": "69036af2-f845-4f88-8ad9-1eec04622bea"
      },
      "execution_count": 6,
      "outputs": [
        {
          "output_type": "stream",
          "name": "stdout",
          "text": [
            "Requirement already satisfied: pykeops in /usr/local/lib/python3.10/dist-packages (2.2.3)\n",
            "Requirement already satisfied: numpy in /usr/local/lib/python3.10/dist-packages (from pykeops) (1.25.2)\n",
            "Requirement already satisfied: pybind11 in /usr/local/lib/python3.10/dist-packages (from pykeops) (2.12.0)\n",
            "Requirement already satisfied: keopscore==2.2.3 in /usr/local/lib/python3.10/dist-packages (from pykeops) (2.2.3)\n"
          ]
        }
      ]
    },
    {
      "cell_type": "code",
      "execution_count": 7,
      "metadata": {
        "id": "wlmu_RNyoZr9"
      },
      "outputs": [],
      "source": [
        "#Standard imports\n",
        "\n",
        "import time\n",
        "\n",
        "import torch\n",
        "from matplotlib import pyplot as plt\n",
        "\n",
        "from pykeops.torch import LazyTensor\n",
        "\n",
        "use_cuda = torch.cuda.is_available()\n",
        "tensor = torch.cuda.FloatTensor if use_cuda else torch.FloatTensor"
      ]
    },
    {
      "cell_type": "code",
      "source": [
        "try:\n",
        "    from sklearn.datasets import fetch_openml\n",
        "except ImportError:\n",
        "    raise ImportError(\"This tutorial requires Scikit Learn version >= 0.20.\")\n",
        "\n",
        "mnist = fetch_openml(\"mnist_784\", cache=True, as_frame=False)\n",
        "\n",
        "x = tensor(mnist.data.astype(\"float32\"))\n",
        "y = tensor(mnist.target.astype(\"int64\"))"
      ],
      "metadata": {
        "colab": {
          "base_uri": "https://localhost:8080/"
        },
        "id": "DJe0fAQuqBBH",
        "outputId": "31de9574-3be2-483e-adfc-542c3abfd065"
      },
      "execution_count": 8,
      "outputs": [
        {
          "output_type": "stream",
          "name": "stderr",
          "text": [
            "/usr/local/lib/python3.10/dist-packages/sklearn/datasets/_openml.py:968: FutureWarning: The default value of `parser` will change from `'liac-arff'` to `'auto'` in 1.4. You can set `parser='auto'` to silence this warning. Therefore, an `ImportError` will be raised from 1.4 if the dataset is dense and pandas is not installed. Note that the pandas parser may return different data types. See the Notes Section in fetch_openml's API doc for details.\n",
            "  warn(\n"
          ]
        }
      ]
    },
    {
      "cell_type": "code",
      "source": [
        "Ntrain, Ntest = (60000, 10000) if use_cuda else (1000, 100)\n",
        "x_train, y_train = x[:Ntrain, :].contiguous(), y[:Ntrain].contiguous()\n",
        "x_test, y_test = (\n",
        "    x[Ntrain : Ntrain + Ntest, :].contiguous(),\n",
        "    y[Ntrain : Ntrain + Ntest].contiguous(),\n",
        ")"
      ],
      "metadata": {
        "id": "yZckJNm3sCD8"
      },
      "execution_count": 9,
      "outputs": []
    },
    {
      "cell_type": "code",
      "source": [
        "K = 3  # N.B.: K has very little impact on the running time\n",
        "\n",
        "start = time.time()  # Benchmark:\n",
        "\n",
        "X_i = LazyTensor(x_test[:, None, :])  # (10000, 1, 784) test set\n",
        "X_j = LazyTensor(x_train[None, :, :])  # (1, 60000, 784) train set\n",
        "D_ij = ((X_i - X_j) ** 2).sum(\n",
        "    -1\n",
        ")  # (10000, 60000) symbolic matrix of squared L2 distances\n",
        "\n",
        "ind_knn = D_ij.argKmin(K, dim=1)  # Samples <-> Dataset, (N_test, K)\n",
        "lab_knn = y_train[ind_knn]  # (N_test, K) array of integers in [0,9]\n",
        "y_knn, _ = lab_knn.mode()  # Compute the most likely label\n",
        "\n",
        "if use_cuda:\n",
        "    torch.cuda.synchronize()\n",
        "end = time.time()\n",
        "\n",
        "error = (y_knn != y_test).float().mean().item()\n",
        "time = end - start\n",
        "\n",
        "print(\n",
        "    \"{}-NN on the full MNIST dataset: test error = {:.2f}% in {:.2f}s.\".format(\n",
        "        K, error * 100, time\n",
        "    )\n",
        ")"
      ],
      "metadata": {
        "colab": {
          "base_uri": "https://localhost:8080/"
        },
        "id": "cYyuThw0sNUc",
        "outputId": "1a844037-c0e2-412a-c5ea-0efc6e21330c"
      },
      "execution_count": 10,
      "outputs": [
        {
          "output_type": "stream",
          "name": "stdout",
          "text": [
            "[KeOps] Generating code for ArgKMin_Reduction reduction (with parameters 0) of formula Sum((a-b)**2) with a=Var(0,784,0), b=Var(1,784,1) ... OK\n",
            "[pyKeOps] Compiling pykeops cpp cafd668bf8 module ... OK\n",
            "3-NN on the full MNIST dataset: test error = 20.00% in 8.97s.\n"
          ]
        }
      ]
    },
    {
      "cell_type": "code",
      "source": [
        "for i in range(6):\n",
        "    ax = plt.subplot(2, 3, i + 1)\n",
        "    ax.imshow((255 - x_test[i]).view(28, 28).detach().cpu().numpy(), cmap=\"gray\")\n",
        "    ax.set_title(\"label = {}\".format(y_knn[i].int()))\n",
        "    plt.axis(\"off\")\n",
        "\n",
        "plt.show()"
      ],
      "metadata": {
        "colab": {
          "base_uri": "https://localhost:8080/",
          "height": 406
        },
        "id": "PWZG4G17sR_I",
        "outputId": "263b4718-325d-490c-b58c-6e4c9b9764e5"
      },
      "execution_count": 11,
      "outputs": [
        {
          "output_type": "display_data",
          "data": {
            "text/plain": [
              "<Figure size 640x480 with 6 Axes>"
            ],
            "image/png": "[encoded data removed]"
          },
          "metadata": {}
        }
      ]
    },
    {
      "cell_type": "code",
      "source": [],
      "metadata": {
        "id": "tFDmIp9esX0r"
      },
      "execution_count": null,
      "outputs": []
    }
  ]
}