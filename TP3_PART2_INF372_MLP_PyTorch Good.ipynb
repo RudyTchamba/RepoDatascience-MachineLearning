{
 "cells": [
  {
   "cell_type": "markdown",
   "id": "75b24578-2d63-4555-9e5b-8b52df1d8a0d",
   "metadata": {
    "id": "75b24578-2d63-4555-9e5b-8b52df1d8a0d"
   },
   "source": [
    "# TP3 PART 2 INF372 : APPRENTISSAGE SUPERVISE ET NON SUPERVISE"
   ]
  },
  {
   "cell_type": "markdown",
   "id": "3116452c-fd1f-44bd-bed0-2e9c441aeec9",
   "metadata": {
    "id": "3116452c-fd1f-44bd-bed0-2e9c441aeec9"
   },
   "source": [
    "## Membre du groupe :\n",
    "- FOSSI TALLA JORDANE (20U2878)\n",
    "- MAKOU FOKOUA PATRICIA (21T2446)\n",
    "- MEKA MOISE CHRISTIAN JUNIOR (21T2561)\n",
    "- RUDY TCHAMBA TCHAPTCHE ITIEL (21T2981)"
   ]
  },
  {
   "cell_type": "markdown",
   "id": "65f3af13-51f5-4f67-9e34-46a7cd82909c",
   "metadata": {
    "id": "65f3af13-51f5-4f67-9e34-46a7cd82909c"
   },
   "source": [
    "## Objectif du TP"
   ]
  },
  {
   "cell_type": "markdown",
   "id": "5f130583-a0c2-494e-91cc-a72af7dee1d5",
   "metadata": {
    "id": "5f130583-a0c2-494e-91cc-a72af7dee1d5"
   },
   "source": [
    "Il s'agit d'implémenter un MLP (MultiLayer Perceptron) sur l’ensemble de données CIFAR10 constitué d'images d'objets. L'idée étant à partir d'image, de prédire l'objet se trouvant sur l'image celà en utilisant le MLP. \\\n",
    "Pour se faire, nous allons procéder en plusieurs étapes :\n",
    "1. Importation des données\n",
    "2. Définition le modèle\n",
    "3. Définition la fonction de perte et les optimiseurs\n",
    "4. Entraînement du modèle\n",
    "5. Évaluer le modèle\n",
    "\n",
    "Dans le cadre de cet exercice, nous utiliseron le package *PyToch*"
   ]
  },
  {
   "cell_type": "code",
   "execution_count": 1,
   "id": "75167ff4-8e1a-4199-a778-a28ccafc39e0",
   "metadata": {
    "executionInfo": {
     "elapsed": 11631,
     "status": "ok",
     "timestamp": 1713115338973,
     "user": {
      "displayName": "Patricia Fokoua",
      "userId": "03816542820723735722"
     },
     "user_tz": -60
    },
    "id": "75167ff4-8e1a-4199-a778-a28ccafc39e0"
   },
   "outputs": [],
   "source": [
    "#Chargement des packages necessaires\n",
    "import random\n",
    "import matplotlib.pyplot as plt\n",
    "import matplotlib\n",
    "import numpy as np\n",
    "import torch\n",
    "import torch.nn as nn\n",
    "import torchvision.datasets as datasets"
   ]
  },
  {
   "cell_type": "markdown",
   "id": "5bf73044-5cf6-4818-9d57-bf37ab01f3e3",
   "metadata": {
    "id": "5bf73044-5cf6-4818-9d57-bf37ab01f3e3"
   },
   "source": [
    "## Importation des données"
   ]
  },
  {
   "cell_type": "code",
   "execution_count": 2,
   "id": "492ea025-2fc7-4040-b79f-639b419a87f2",
   "metadata": {
    "executionInfo": {
     "elapsed": 12,
     "status": "ok",
     "timestamp": 1713115338974,
     "user": {
      "displayName": "Patricia Fokoua",
      "userId": "03816542820723735722"
     },
     "user_tz": -60
    },
    "id": "492ea025-2fc7-4040-b79f-639b419a87f2"
   },
   "outputs": [],
   "source": [
    "#Chargement des données\n",
    "SEED_VALUE = 42\n",
    "def seed_random():\n",
    "\n",
    "    # Fix seed to make training deterministic.\n",
    "    random.seed(SEED_VALUE)\n",
    "    np.random.seed(SEED_VALUE)"
   ]
  },
  {
   "cell_type": "code",
   "execution_count": 3,
   "id": "82b773e6-1a30-4674-8680-6ddfa3260e28",
   "metadata": {
    "colab": {
     "base_uri": "https://localhost:8080/"
    },
    "executionInfo": {
     "elapsed": 22974,
     "status": "ok",
     "timestamp": 1713115361940,
     "user": {
      "displayName": "Patricia Fokoua",
      "userId": "03816542820723735722"
     },
     "user_tz": -60
    },
    "id": "82b773e6-1a30-4674-8680-6ddfa3260e28",
    "outputId": "6c40f7de-1023-4f61-95d1-0e55b21798dc"
   },
   "outputs": [
    {
     "name": "stdout",
     "output_type": "stream",
     "text": [
      "Downloading https://www.cs.toronto.edu/~kriz/cifar-10-python.tar.gz to ./data/cifar-10-python.tar.gz\n"
     ]
    },
    {
     "name": "stderr",
     "output_type": "stream",
     "text": [
      "100%|██████████| 170498071/170498071 [00:12<00:00, 13388494.25it/s]\n"
     ]
    },
    {
     "name": "stdout",
     "output_type": "stream",
     "text": [
      "Extracting ./data/cifar-10-python.tar.gz to ./data\n",
      "Files already downloaded and verified\n"
     ]
    }
   ],
   "source": [
    "train_all=datasets.CIFAR10(root='./data', train=True, download=True, transform=None)\n",
    "test=datasets.CIFAR10(root='./data', train=False, download=True, transform=None)"
   ]
  },
  {
   "cell_type": "markdown",
   "id": "168353ef-98c0-4f07-a130-57020f7c7370",
   "metadata": {
    "id": "168353ef-98c0-4f07-a130-57020f7c7370"
   },
   "source": [
    "Après avoir importé les données nous les diviserons en données d'entrainement et données de test car à la fin de notre process nous évaluer le modèle et faire des prévisions"
   ]
  },
  {
   "cell_type": "code",
   "execution_count": 4,
   "id": "5763badf-fc20-4168-be04-f461c36ebf93",
   "metadata": {
    "executionInfo": {
     "elapsed": 10627,
     "status": "ok",
     "timestamp": 1713115372557,
     "user": {
      "displayName": "Patricia Fokoua",
      "userId": "03816542820723735722"
     },
     "user_tz": -60
    },
    "id": "5763badf-fc20-4168-be04-f461c36ebf93"
   },
   "outputs": [],
   "source": [
    "X_train_all=[]\n",
    "y_train_all=[]\n",
    "for i in range(len(train_all)) :\n",
    "    X_train_all.append(train_all[i][0])\n",
    "    y_train_all.append(train_all[i][1])\n",
    "\n",
    "X_test=[]\n",
    "y_test=[]\n",
    "for i in range(len(test)):\n",
    "    X_test.append(test[i][0])\n",
    "    y_test.append(test[i][1])\n",
    "\n",
    "X_train_all=np.array(X_train_all)\n",
    "y_train_all=np.array(y_train_all)\n",
    "y_test=np.array(y_test)\n",
    "X_test=np.array(X_test)"
   ]
  },
  {
   "cell_type": "code",
   "execution_count": 5,
   "id": "5ee53777-be03-4849-8846-bf912315a847",
   "metadata": {
    "colab": {
     "base_uri": "https://localhost:8080/"
    },
    "executionInfo": {
     "elapsed": 28,
     "status": "ok",
     "timestamp": 1713115372558,
     "user": {
      "displayName": "Patricia Fokoua",
      "userId": "03816542820723735722"
     },
     "user_tz": -60
    },
    "id": "5ee53777-be03-4849-8846-bf912315a847",
    "outputId": "7f578a8a-582e-4fbe-f277-66e0455160d0"
   },
   "outputs": [
    {
     "name": "stdout",
     "output_type": "stream",
     "text": [
      "Train :  (40000, 32, 32, 3)\n",
      "Valid :  (10000, 32, 32, 3)\n",
      "Test :  (10000, 32, 32, 3)\n"
     ]
    }
   ],
   "source": [
    "#On défini un état aléatoire\n",
    "seed_random()\n",
    "\n",
    "#On sélectionne les 10000 observations pour le validset\n",
    "id_valid=random.sample(range(X_train_all.shape[0]), 10000)\n",
    "X_valid = X_train_all[id_valid]\n",
    "y_valid = y_train_all[id_valid]\n",
    "\n",
    "#On sélectionne le reste pour le Trainset\n",
    "id_train=np.setdiff1d(np.arange(0, X_train_all.shape[0]), id_valid)\n",
    "X_train = X_train_all[id_train]\n",
    "y_train = y_train_all[id_train]\n",
    "\n",
    "#On affiche les dimmensions de nos ensembles de données Train-Valid-Test\n",
    "print(\"Train : \",X_train.shape)\n",
    "print(\"Valid : \",X_valid.shape)\n",
    "print(\"Test : \",X_test.shape)"
   ]
  },
  {
   "cell_type": "code",
   "execution_count": 6,
   "id": "43e920bc-4f6f-44a2-a478-21e5e5717254",
   "metadata": {
    "colab": {
     "base_uri": "https://localhost:8080/",
     "height": 323
    },
    "executionInfo": {
     "elapsed": 1540,
     "status": "ok",
     "timestamp": 1713115374076,
     "user": {
      "displayName": "Patricia Fokoua",
      "userId": "03816542820723735722"
     },
     "user_tz": -60
    },
    "id": "43e920bc-4f6f-44a2-a478-21e5e5717254",
    "outputId": "63814154-4362-48cc-8063-7c2c755d194d"
   },
   "outputs": [
    {
     "data": {
      "image/png": "[encoded data removed]",
      "text/plain": [
       "<Figure size 1800x500 with 3 Axes>"
      ]
     },
     "metadata": {},
     "output_type": "display_data"
    }
   ],
   "source": [
    "#On affiche en suite quelques images du trainset\n",
    "plt.figure(figsize=(18, 5))\n",
    "for i in range(3):\n",
    "    plt.subplot(1, 3, i + 1)\n",
    "    plt.axis(True)\n",
    "    plt.imshow(X_train[i], cmap='gray')\n",
    "    plt.title(y_train[i])\n",
    "    plt.subplots_adjust(wspace=0.2, hspace=0.2)"
   ]
  },
  {
   "cell_type": "markdown",
   "id": "bf4c5a11-8efb-44a4-92e2-4af417d3e12b",
   "metadata": {
    "id": "bf4c5a11-8efb-44a4-92e2-4af417d3e12b"
   },
   "source": [
    "## Transformation des données"
   ]
  },
  {
   "cell_type": "code",
   "execution_count": 7,
   "id": "a345adff-b1b4-488f-8f6d-0338f43000f4",
   "metadata": {
    "executionInfo": {
     "elapsed": 43,
     "status": "ok",
     "timestamp": 1713115374076,
     "user": {
      "displayName": "Patricia Fokoua",
      "userId": "03816542820723735722"
     },
     "user_tz": -60
    },
    "id": "a345adff-b1b4-488f-8f6d-0338f43000f4"
   },
   "outputs": [],
   "source": [
    "#Normalisation des images\n",
    "X_train = X_train.reshape((X_train.shape[0], -1))\n",
    "X_train = X_train.astype(\"float32\") / 255\n",
    "\n",
    "X_valid = X_valid.reshape((X_valid.shape[0], -1))\n",
    "X_valid = X_valid.astype(\"float32\") / 255\n",
    "\n",
    "X_test = X_test.reshape((X_test.shape[0], -1))\n",
    "X_test = X_test.astype(\"float32\") / 255"
   ]
  },
  {
   "cell_type": "code",
   "execution_count": 8,
   "id": "87f38bd4-63f6-4fa4-a75e-099922e88b11",
   "metadata": {
    "executionInfo": {
     "elapsed": 42,
     "status": "ok",
     "timestamp": 1713115374077,
     "user": {
      "displayName": "Patricia Fokoua",
      "userId": "03816542820723735722"
     },
     "user_tz": -60
    },
    "id": "87f38bd4-63f6-4fa4-a75e-099922e88b11"
   },
   "outputs": [],
   "source": [
    "def to_categorical(y):\n",
    "    n_cls=max(y)+1\n",
    "    res = np.zeros((y.size, n_cls), dtype=float)\n",
    "    res[np.arange(y.size), y] = 1.0\n",
    "    return res"
   ]
  },
  {
   "cell_type": "code",
   "execution_count": 9,
   "id": "4581f110-7c77-4a0d-8973-67b90dff24a2",
   "metadata": {
    "colab": {
     "base_uri": "https://localhost:8080/"
    },
    "executionInfo": {
     "elapsed": 43,
     "status": "ok",
     "timestamp": 1713115374079,
     "user": {
      "displayName": "Patricia Fokoua",
      "userId": "03816542820723735722"
     },
     "user_tz": -60
    },
    "id": "4581f110-7c77-4a0d-8973-67b90dff24a2",
    "outputId": "f10b997b-ce17-4c3f-9606-df83d4b9bad6"
   },
   "outputs": [
    {
     "name": "stdout",
     "output_type": "stream",
     "text": [
      "[0. 0. 0. 0. 0. 0. 1. 0. 0. 0.]\n",
      "[0. 0. 0. 0. 0. 0. 0. 0. 0. 1.]\n",
      "[0. 0. 0. 0. 0. 0. 0. 0. 0. 1.]\n"
     ]
    }
   ],
   "source": [
    "y_train = to_categorical(y_train)\n",
    "y_test  = to_categorical(y_test)\n",
    "y_valid  = to_categorical(y_valid)\n",
    "for i in range(3):\n",
    "    print(y_train[i])"
   ]
  },
  {
   "cell_type": "code",
   "execution_count": 10,
   "id": "c24d13a2-243b-47ed-a194-599462fad971",
   "metadata": {
    "executionInfo": {
     "elapsed": 740,
     "status": "ok",
     "timestamp": 1713115374779,
     "user": {
      "displayName": "Patricia Fokoua",
      "userId": "03816542820723735722"
     },
     "user_tz": -60
    },
    "id": "c24d13a2-243b-47ed-a194-599462fad971"
   },
   "outputs": [],
   "source": [
    "X_train=torch.tensor(X_train)\n",
    "X_test=torch.tensor(X_test)\n",
    "y_train=torch.tensor(y_train)\n",
    "y_test=torch.tensor(y_test)\n",
    "X_valid=torch.tensor(X_valid)\n",
    "y_valid=torch.tensor(y_valid)"
   ]
  },
  {
   "cell_type": "markdown",
   "id": "57677d7e-da54-4667-bc61-93b3d1147927",
   "metadata": {
    "id": "57677d7e-da54-4667-bc61-93b3d1147927"
   },
   "source": [
    "## Définition du modèle"
   ]
  },
  {
   "cell_type": "markdown",
   "id": "31e15e88-96c8-4102-8063-f2f52f7c0341",
   "metadata": {
    "id": "31e15e88-96c8-4102-8063-f2f52f7c0341"
   },
   "source": [
    "Le MLP que nous allons construire dans le cadre de ce TP sera constitué d'une séquence de couches définies comme suit :\n",
    "- Couche d'entrée à 8 neurones car nos observation comportes 8 attributs\n",
    "- Deux couches cachées avec 12 neurones pour la première et 8 pour la seconde. l'activation utilisée sera ReLU\n",
    "- Une couche de sortie à un seul neurone. Vu que nous sommes en classification binaire, l'activation ici sera Sigmoid\n",
    "\n",
    "Du point de vu de PyTorch, il existe deux façon de définir un tel modèle séquentiel (Soit en instanciant un modèle séquentiel et en lui ajoutant les différentes couches, soit en créant une classe qui héritera de *nn.Model*). Mais dans le cadre de ce TP nous opterons pour la première méthode."
   ]
  },
  {
   "cell_type": "code",
   "execution_count": 11,
   "id": "4b2436a2-693a-448b-b0af-178364e6327f",
   "metadata": {
    "executionInfo": {
     "elapsed": 16,
     "status": "ok",
     "timestamp": 1713115374779,
     "user": {
      "displayName": "Patricia Fokoua",
      "userId": "03816542820723735722"
     },
     "user_tz": -60
    },
    "id": "4b2436a2-693a-448b-b0af-178364e6327f"
   },
   "outputs": [],
   "source": [
    "model = nn.Sequential()\n",
    "model.add_module(\"dense1\", nn.Linear(X_train.shape[1], 128))\n",
    "model.add_module(\"act1\", nn.ReLU())\n",
    "model.add_module(\"dense2\", nn.Linear(128, 10))\n",
    "model.add_module(\"act2\", nn.ReLU())\n",
    "model.add_module(\"output\", nn.Linear(10, 10))\n",
    "model.add_module(\"outact\", nn.Sigmoid())"
   ]
  },
  {
   "cell_type": "code",
   "execution_count": 12,
   "id": "c1cf2065-82a9-4f43-aeb9-4fc70782da54",
   "metadata": {
    "colab": {
     "base_uri": "https://localhost:8080/"
    },
    "executionInfo": {
     "elapsed": 16,
     "status": "ok",
     "timestamp": 1713115374780,
     "user": {
      "displayName": "Patricia Fokoua",
      "userId": "03816542820723735722"
     },
     "user_tz": -60
    },
    "id": "c1cf2065-82a9-4f43-aeb9-4fc70782da54",
    "outputId": "ac9710f9-ce8e-4962-fe15-6cd8d8f8e026"
   },
   "outputs": [
    {
     "name": "stdout",
     "output_type": "stream",
     "text": [
      "Sequential(\n",
      "  (dense1): Linear(in_features=3072, out_features=128, bias=True)\n",
      "  (act1): ReLU()\n",
      "  (dense2): Linear(in_features=128, out_features=10, bias=True)\n",
      "  (act2): ReLU()\n",
      "  (output): Linear(in_features=10, out_features=10, bias=True)\n",
      "  (outact): Sigmoid()\n",
      ")\n"
     ]
    }
   ],
   "source": [
    "#Resumé du modèle défini\n",
    "print(model)"
   ]
  },
  {
   "cell_type": "markdown",
   "id": "517a936c-dc5b-44cb-aab4-e3e0fb1c026a",
   "metadata": {
    "id": "517a936c-dc5b-44cb-aab4-e3e0fb1c026a"
   },
   "source": [
    "## Définition la fonction de perte et les optimiseurs"
   ]
  },
  {
   "cell_type": "markdown",
   "id": "124fd5ce-8122-4d4a-b20f-44df95d60b0a",
   "metadata": {
    "id": "124fd5ce-8122-4d4a-b20f-44df95d60b0a"
   },
   "source": [
    "Après avoir défini le défini le modèle, nous poursuivons dans notre process avec la définition de la fonction de perte et de l'optimiseur. En effet, ce sont ces deux éléments qui permettront à notre modèle d'apprendre des données qui lui sont fornis celà en mettant à jour les poids du modèle et en minimisant les erreurs à la préduction (Ecart entre valeur prédite et valeur réel).\\\n",
    "Dans le cadre de ce TP nous utiliserons :\n",
    "- La fontion de perte Cross Entropy : Qui est la fonction loss utilisé lors des classifications multiclasse,\n",
    "- Optimiseur Adam."
   ]
  },
  {
   "cell_type": "code",
   "execution_count": 13,
   "id": "b53a1c4c-6c44-4bd2-bfbf-89ba9b412e8c",
   "metadata": {
    "executionInfo": {
     "elapsed": 11,
     "status": "ok",
     "timestamp": 1713115374780,
     "user": {
      "displayName": "Patricia Fokoua",
      "userId": "03816542820723735722"
     },
     "user_tz": -60
    },
    "id": "b53a1c4c-6c44-4bd2-bfbf-89ba9b412e8c"
   },
   "outputs": [],
   "source": [
    "loss_fn = nn.CrossEntropyLoss()\n",
    "optimizer = torch.optim.RMSprop(model.parameters(), lr=0.001) #lr ici est le taux d'apprentissage"
   ]
  },
  {
   "cell_type": "markdown",
   "id": "a2d2b684-3e6f-426a-9b73-cccc2bac42a7",
   "metadata": {
    "id": "a2d2b684-3e6f-426a-9b73-cccc2bac42a7"
   },
   "source": [
    "## Entraînement du modèle"
   ]
  },
  {
   "cell_type": "markdown",
   "id": "2e28d83c-81e1-4384-adae-7cc2e269e30a",
   "metadata": {
    "id": "2e28d83c-81e1-4384-adae-7cc2e269e30a"
   },
   "source": [
    "Dans le cadre de l'entrainement de notre modèle, nous allons faire un Mini BGD (Batch Gradient Descent) pour y faire passer nos données par lot dans le modèle et mettre à jour les poids à chaque itération."
   ]
  },
  {
   "cell_type": "code",
   "execution_count": 14,
   "id": "85f69e62-8550-49dc-9820-812df17f6a15",
   "metadata": {
    "executionInfo": {
     "elapsed": 11,
     "status": "ok",
     "timestamp": 1713115374781,
     "user": {
      "displayName": "Patricia Fokoua",
      "userId": "03816542820723735722"
     },
     "user_tz": -60
    },
    "id": "85f69e62-8550-49dc-9820-812df17f6a15"
   },
   "outputs": [],
   "source": [
    "from tqdm import tqdm\n",
    "def training_model(n_epochs, batch_size, X_train, y_train, model, optimizer, loss_fn):\n",
    "    loss_train=list()\n",
    "    accuracy=list()\n",
    "    for epoch in range(n_epochs):\n",
    "        for  batch in range(0, len(X_train), batch_size):\n",
    "\n",
    "          # Get the batch data\n",
    "          Xbatch = X_train[batch * batch_size:(batch + 1) * batch_size]\n",
    "          ybatch = y_train[batch * batch_size:(batch + 1) * batch_size]\n",
    "\n",
    "          # Forward pass\n",
    "          y_pred = model(Xbatch)\n",
    "\n",
    "          # Calculate the loss\n",
    "          loss = loss_fn(y_pred, ybatch)\n",
    "\n",
    "          # Backward pass\n",
    "          optimizer.zero_grad()\n",
    "          loss.backward()\n",
    "\n",
    "          # Update the model parameters\n",
    "          optimizer.step()\n",
    "\n",
    "          loss_train.append(loss.detach().numpy())\n",
    "          accuracy.append((y_pred.round() == ybatch).float().mean())\n",
    "        print(f'Finished epoch {epoch}, latest loss {loss_train[epoch]}')\n",
    "    return (loss_train, accuracy)"
   ]
  },
  {
   "cell_type": "code",
   "execution_count": 15,
   "id": "c60af76b-dad1-4df2-9d95-6ad870d648e2",
   "metadata": {
    "colab": {
     "base_uri": "https://localhost:8080/"
    },
    "executionInfo": {
     "elapsed": 107718,
     "status": "ok",
     "timestamp": 1713115482489,
     "user": {
      "displayName": "Patricia Fokoua",
      "userId": "03816542820723735722"
     },
     "user_tz": -60
    },
    "id": "c60af76b-dad1-4df2-9d95-6ad870d648e2",
    "outputId": "fc05dc9a-0792-468b-d5c6-b088d89c7c6b",
    "scrolled": true
   },
   "outputs": [
    {
     "name": "stdout",
     "output_type": "stream",
     "text": [
      "Finished epoch 0, latest loss 2.3109932643611257\n",
      "Finished epoch 1, latest loss 2.3444927203945998\n",
      "Finished epoch 2, latest loss 2.341746350614036\n",
      "Finished epoch 3, latest loss 2.3550524391779084\n",
      "Finished epoch 4, latest loss 2.3307245155660117\n",
      "Finished epoch 5, latest loss 2.420097877339619\n",
      "Finished epoch 6, latest loss 2.33176872788406\n",
      "Finished epoch 7, latest loss 2.3260006352168756\n",
      "Finished epoch 8, latest loss 2.310138562830483\n",
      "Finished epoch 9, latest loss 2.299115849704277\n"
     ]
    }
   ],
   "source": [
    "n_epochs = 10\n",
    "batch_size = 41\n",
    "\n",
    "loss_train, accuracy = training_model(n_epochs, batch_size, X_train, y_train, model, optimizer, loss_fn)"
   ]
  },
  {
   "cell_type": "code",
   "execution_count": 16,
   "id": "3afcadeb-cee1-4352-8cbd-eb8649ef80d6",
   "metadata": {
    "executionInfo": {
     "elapsed": 29,
     "status": "ok",
     "timestamp": 1713115482490,
     "user": {
      "displayName": "Patricia Fokoua",
      "userId": "03816542820723735722"
     },
     "user_tz": -60
    },
    "id": "3afcadeb-cee1-4352-8cbd-eb8649ef80d6"
   },
   "outputs": [],
   "source": [
    "import matplotlib.pyplot as plt\n",
    "import matplotlib"
   ]
  },
  {
   "cell_type": "code",
   "execution_count": 17,
   "id": "a1a1b077-faaa-4f98-81ac-81df8f94aa98",
   "metadata": {
    "colab": {
     "base_uri": "https://localhost:8080/",
     "height": 569
    },
    "executionInfo": {
     "elapsed": 1040,
     "status": "ok",
     "timestamp": 1713115483504,
     "user": {
      "displayName": "Patricia Fokoua",
      "userId": "03816542820723735722"
     },
     "user_tz": -60
    },
    "id": "a1a1b077-faaa-4f98-81ac-81df8f94aa98",
    "outputId": "b129f6ab-b44a-450d-8b9d-1b7ab7f47c62"
   },
   "outputs": [
    {
     "data": {
      "image/png": "[encoded data removed]",
      "text/plain": [
       "<Figure size 1800x1000 with 2 Axes>"
      ]
     },
     "metadata": {},
     "output_type": "display_data"
    }
   ],
   "source": [
    "plt.figure(figsize=(18, 10))\n",
    "plt.subplot(2, 1, 1)\n",
    "plt.plot(loss_train)\n",
    "plt.xlabel(\"Epoch\")\n",
    "plt.ylabel(\"Loss\")\n",
    "plt.xlim([0,100])\n",
    "plt.title('Loss for training')\n",
    "plt.grid(True)\n",
    "plt.subplot(2, 1, 2)\n",
    "plt.plot(accuracy, c='green')\n",
    "plt.xlabel(\"Epoch\")\n",
    "plt.ylabel(\"Accuracy\")\n",
    "plt.xlim([0,100])\n",
    "plt.title('Accuracy for training')\n",
    "plt.grid(True)\n",
    "plt.show()\n",
    "plt.close()"
   ]
  },
  {
   "cell_type": "markdown",
   "id": "a770b42a-f009-441a-88cc-e8d03ec3ee31",
   "metadata": {
    "id": "a770b42a-f009-441a-88cc-e8d03ec3ee31"
   },
   "source": [
    "## Evaluation du modèle"
   ]
  },
  {
   "cell_type": "markdown",
   "id": "3e7a8b62-39bb-4083-8807-029cf05d0e6d",
   "metadata": {
    "id": "3e7a8b62-39bb-4083-8807-029cf05d0e6d"
   },
   "source": [
    "Le modèle entrainé doit être évalué. Dans un premier temps nous utiliserons l'accuracy et dans un second temps nous allons contruire une matrice de confusion."
   ]
  },
  {
   "cell_type": "code",
   "execution_count": 18,
   "id": "cf125fa2-076d-499b-b93c-f1376bc95470",
   "metadata": {
    "colab": {
     "base_uri": "https://localhost:8080/"
    },
    "executionInfo": {
     "elapsed": 42,
     "status": "ok",
     "timestamp": 1713115483504,
     "user": {
      "displayName": "Patricia Fokoua",
      "userId": "03816542820723735722"
     },
     "user_tz": -60
    },
    "id": "cf125fa2-076d-499b-b93c-f1376bc95470",
    "outputId": "6c851ca3-e11e-48f6-a9e1-b02a2600f997"
   },
   "outputs": [
    {
     "name": "stdout",
     "output_type": "stream",
     "text": [
      "Accuracy 0.6593300104141235\n"
     ]
    }
   ],
   "source": [
    "with torch.no_grad():\n",
    "    predictions = (model(X_test) > 0.5).int()\n",
    "\n",
    "accuracy = (predictions.round() == y_test).float().mean()\n",
    "print(f\"Accuracy {accuracy}\")"
   ]
  },
  {
   "cell_type": "code",
   "execution_count": null,
   "id": "fba2a221-345f-4005-925f-27978273498b",
   "metadata": {
    "colab": {
     "base_uri": "https://localhost:8080/"
    },
    "id": "fba2a221-345f-4005-925f-27978273498b",
    "outputId": "f8aa8cd4-e76e-40fa-fe3f-bac4234ce89c"
   },
   "outputs": [
    {
     "name": "stderr",
     "output_type": "stream",
     "text": [
      "IOPub data rate exceeded.\n",
      "The notebook server will temporarily stop sending output\n",
      "to the client in order to avoid crashing it.\n",
      "To change this limit, set the config variable\n",
      "`--NotebookApp.iopub_data_rate_limit`.\n",
      "\n",
      "Current values:\n",
      "NotebookApp.iopub_data_rate_limit=1000000.0 (bytes/sec)\n",
      "NotebookApp.rate_limit_window=3.0 (secs)\n",
      "\n"
     ]
    }
   ],
   "source": [
    "from sklearn.metrics import confusion_matrix\n",
    "from sklearn.preprocessing import MultiLabelBinarizer\n",
    "\n",
    "# Ces transformations sont effectuées car confusion_matrix de sklearn n'est valide que pour les classifications binaires\n",
    "mlb = MultiLabelBinarizer()\n",
    "y_test = mlb.fit_transform(y_test)\n",
    "predictions = mlb.transform(predictions)\n",
    "\n",
    "cm = confusion_matrix(y_test, predictions)\n",
    "\n",
    "plt.figure(figsize=[15, 8])\n",
    "import seaborn as sn\n",
    "sn.heatmap(cm, annot=True, fmt='d', annot_kws={\"size\": 14})\n",
    "plt.xlabel('Prediction')\n",
    "plt.ylabel('Reel')\n",
    "plt.show()"
   ]
  },
  {
   "cell_type": "code",
   "execution_count": null,
   "id": "ff78459c-42c9-4b27-ac6c-f523d7cc2c74",
   "metadata": {
    "id": "ff78459c-42c9-4b27-ac6c-f523d7cc2c74"
   },
   "outputs": [],
   "source": [
    "torch.save(model, \"my_model.pickle\")"
   ]
  }
 ],
 "metadata": {
  "colab": {
   "provenance": [
    {
     "file_id": "1pDFqHJ5HO0DyZLTVQdqjTvTpcJvQutsR",
     "timestamp": 1713115291492
    }
   ]
  },
  "kernelspec": {
   "display_name": "Python 3 (ipykernel)",
   "language": "python",
   "name": "python3"
  },
  "language_info": {
   "codemirror_mode": {
    "name": "ipython",
    "version": 3
   },
   "file_extension": ".py",
   "mimetype": "text/x-python",
   "name": "python",
   "nbconvert_exporter": "python",
   "pygments_lexer": "ipython3",
   "version": "3.11.2"
  }
 },
 "nbformat": 4,
 "nbformat_minor": 5
}
